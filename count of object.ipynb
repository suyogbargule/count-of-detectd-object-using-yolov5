{
 "cells": [
  {
   "cell_type": "code",
   "execution_count": 12,
   "metadata": {
    "id": "70X7aeTLvUGK"
   },
   "outputs": [],
   "source": [
    "import cv2\n",
    "import torch\n",
   ]
  },
  {
   "cell_type": "code",
   "execution_count": 27,
   "metadata": {
    "id": "IgLsME1i5feC"
   },
   "outputs": [],
   "source": [
    "def run(input,output):\n",
    "  \n",
    "  model = torch.hub.load('ultralytics/yolov5', 'yolov5s')\n",
    "\n",
    "  cap = cv2.VideoCapture(input)\n",
    "  if (cap.isOpened()== False):\n",
    "    print(\"Error opening video stream or file\")\n",
    "\n",
    "  ret, frame = cap.read()\n",
    "  ch, cw, _ = frame.shape\n",
    "\n",
    "  x,y,w,h = 1,10,180,80\n",
    "  \n",
    "  fourcc = cv2.VideoWriter_fourcc(*\"XVID\")\n",
    "  fps = 25\n",
    "  writer = cv2.VideoWriter(output, fourcc, fps, (cw, ch))\n",
    "\n",
    "  device = 'cuda' if torch.cuda.is_available() else 'cpu'\n",
    "  model.to(device)\n",
    "    \n",
    "  while ret:\n",
    "    ret, frame = cap.read()\n",
    "    try:\n",
    "      image = cv2.resize(frame, (cw, ch))\n",
    "    except:\n",
    "      break\n",
    "    img_m = model(image)\n",
    "    img_m.pandas().xyxy[0] \n",
    "    count_dic = {}\n",
    "    for n in range(len(img_m.pandas().xyxy[0].value_counts('name'))):\n",
    "      count_dic[img_m.pandas().xyxy[0].value_counts('name').index[n]] = img_m.pandas().xyxy[0].value_counts('name')[n]\n",
    "    for n in range(len(img_m.pandas().xyxy[0])):\n",
    "      for m in count_dic.keys():\n",
    "          if m == img_m.pandas().xyxy[0].iloc[n][\"name\"]:\n",
    "              count_dic[m] = count_dic[m] - 1\n",
    "              v = count_dic[m]+1\n",
    "              break\n",
    "      img = cv2.rectangle(image,(int(img_m.pandas().xyxy[0].iloc[n][\"xmin\"]),\n",
    "                           int(img_m.pandas().xyxy[0].iloc[n][\"ymax\"])),\n",
    "                      (int(img_m.pandas().xyxy[0].iloc[n][\"xmax\"]),\n",
    "                           int(img_m.pandas().xyxy[0].iloc[n][\"ymin\"])),\n",
    "                      (0, 0, 255),2) \n",
    "      img = cv2.putText(img, m+str(v), \n",
    "                    (int(img_m.pandas().xyxy[0].iloc[n][\"xmin\"]), \n",
    "                      int(img_m.pandas().xyxy[0].iloc[n][\"ymin\"])-5),\n",
    "                    cv2.FONT_HERSHEY_SIMPLEX, 0.7, (0, 0, 250), 2)\n",
    "      \n",
    "    img = cv2.rectangle(img, (x,x), (x + w, y + h), (181, 7, 245), -1)\n",
    "    t = 0\n",
    "    for n in range(len(img_m.pandas().xyxy[0].value_counts('name'))):\n",
    "      t = t + 15\n",
    "      img = cv2.putText(img,img_m.pandas().xyxy[0].value_counts('name').index[n]+\":\"+\n",
    "                       str(img_m.pandas().xyxy[0].value_counts('name')[n]) , \n",
    "                        (int(w/180), int(h/5)+t), cv2.FONT_HERSHEY_SIMPLEX, 0.7, (255,255,255), 2)\n",
    "    writer.write(img)\n",
    "    cv2.imshow(\"Out Put\",img)\n",
    "    if cv2.waitKey(1) & 0xFF == ord('q'):\n",
    "        break\n",
    "\n",
    "  writer.release()\n",
    "  cap.release()"
   ]
  },
  {
   "cell_type": "code",
   "execution_count": null,
   "metadata": {
    "colab": {
     "base_uri": "https://localhost:8080/"
    },
    "id": "E8iv_r3Ps3HD",
    "outputId": "3875910d-40b1-44ee-87cc-10e60d2479dd"
   },
   "outputs": [
    {
     "name": "stderr",
     "output_type": "stream",
     "text": [
      "Using cache found in /home/suyog/.cache/torch/hub/ultralytics_yolov5_master\n",
      "YOLOv5 🚀 2022-9-11 Python-3.10.6 torch-1.12.1+cu102 CPU\n",
      "\n",
      "Fusing layers... \n",
      "YOLOv5s summary: 213 layers, 7225885 parameters, 0 gradients\n",
      "Adding AutoShape... \n",
      "OpenCV: FFMPEG: tag 0x44495658/'XVID' is not supported with codec id 12 and format 'mp4 / MP4 (MPEG-4 Part 14)'\n",
      "OpenCV: FFMPEG: fallback to use tag 0x7634706d/'mp4v'\n",
      "Warning: Ignoring XDG_SESSION_TYPE=wayland on Gnome. Use QT_QPA_PLATFORM=wayland to run on Wayland anyway.\n"
     ]
    }
   ],
   "source": [
    "input = \"video.mp4\"\n",
    "output = \"output.mp4\"\n",
    "run(input,output)"
   ]
  },
  {
   "cell_type": "code",
   "execution_count": null,
   "metadata": {},
   "outputs": [],
   "source": []
  }
 ],
 "metadata": {
  "colab": {
   "collapsed_sections": [],
   "provenance": []
  },
  "kernelspec": {
   "display_name": "Python 3 (ipykernel)",
   "language": "python",
   "name": "python3"
  },
  "language_info": {
   "codemirror_mode": {
    "name": "ipython",
    "version": 3
   },
   "file_extension": ".py",
   "mimetype": "text/x-python",
   "name": "python",
   "nbconvert_exporter": "python",
   "pygments_lexer": "ipython3",
   "version": "3.10.6"
  }
 },
 "nbformat": 4,
 "nbformat_minor": 1
}
