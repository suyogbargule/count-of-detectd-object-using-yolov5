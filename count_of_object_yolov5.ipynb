{
  "cells": [
    {
      "cell_type": "code",
      "execution_count": null,
      "metadata": {
        "id": "70X7aeTLvUGK"
      },
      "outputs": [],
      "source": [
        "import cv2\n",
        "import torch"
      ]
    },
    {
      "cell_type": "code",
      "execution_count": null,
      "metadata": {
        "id": "IgLsME1i5feC"
      },
      "outputs": [],
      "source": [
        "def run(input,output):\n",
        "  \n",
        "  model = torch.hub.load('ultralytics/yolov5', 'yolov5s')\n",
        "\n",
        "  cap = cv2.VideoCapture(input)\n",
        "  if (cap.isOpened()== False):\n",
        "    print(\"Error opening video stream or file\")\n",
        "\n",
        "  ret, frame = cap.read()\n",
        "  ch, cw, _ = frame.shape\n",
        "  print(\"higth:-\",ch, \"wigth:-\",cw)\n",
        "  \n",
        "  \n",
        "  fourcc = cv2.VideoWriter_fourcc(*\"XVID\")\n",
        "  fps = 25\n",
        "  writer = cv2.VideoWriter(output, fourcc, fps, (cw, ch))\n",
        "\n",
        "  while ret:\n",
        "    ret, frame = cap.read()\n",
        "    try:\n",
        "      image = cv2.resize(frame, (cw, ch))\n",
        "    except:\n",
        "      break\n",
        "    img_m = model(image)\n",
        "    img_m.pandas().xyxy[0] \n",
        "    count_dic = {}\n",
        "    s = 1\n",
        "    tt = 20\n",
        "    if ch >=2000:\n",
        "      s = 2\n",
        "      tt = 40\n",
        "    for n in range(len(img_m.pandas().xyxy[0].value_counts('name'))):\n",
        "      count_dic[img_m.pandas().xyxy[0].value_counts('name').index[n]] = img_m.pandas().xyxy[0].value_counts('name')[n]\n",
        "    for n in range(len(img_m.pandas().xyxy[0])):\n",
        "      for m in count_dic.keys():\n",
        "          if m == img_m.pandas().xyxy[0].iloc[n][\"name\"]:\n",
        "              count_dic[m] = count_dic[m] - 1\n",
        "              v = count_dic[m]+1\n",
        "              break\n",
        "      img = cv2.rectangle(image,(int(img_m.pandas().xyxy[0].iloc[n][\"xmin\"]),\n",
        "                           int(img_m.pandas().xyxy[0].iloc[n][\"ymax\"])),\n",
        "                      (int(img_m.pandas().xyxy[0].iloc[n][\"xmax\"]),\n",
        "                           int(img_m.pandas().xyxy[0].iloc[n][\"ymin\"])),\n",
        "                      (0, 0, 255),2) \n",
        "      img = cv2.putText(img, m+str(v), \n",
        "                    (int(img_m.pandas().xyxy[0].iloc[n][\"xmin\"]), \n",
        "                      int(img_m.pandas().xyxy[0].iloc[n][\"ymin\"])-5),\n",
        "                    cv2.FONT_HERSHEY_SIMPLEX, s, (0, 0, 250), 2)\n",
        "      \n",
        "    img = cv2.rectangle(img, (int((2/100)*cw),int((2/100)*ch)), (int((20/100)*cw),int((12/100)*ch)), (181, 7, 245), -1)\n",
        "    t = 0\n",
        "    for n in range(len(img_m.pandas().xyxy[0].value_counts('name'))):\n",
        "      t = t + tt\n",
        "      img = cv2.putText(img,img_m.pandas().xyxy[0].value_counts('name').index[n]+\":\"+\n",
        "                       str(img_m.pandas().xyxy[0].value_counts('name')[n]) , \n",
        "                        (int((cw/10)/5), int((ch/10)/5)+t), cv2.FONT_HERSHEY_SIMPLEX, s, (255,255,255), 2)\n",
        "    cv2.imshow(\"img\",img)\n",
        "    writer.write(img)\n",
        "    if cv2.waitKey(1) & 0xFF == ord('q'):\n",
        "        break\n",
        "\n",
        "  writer.release()\n",
        "  cap.release()"
      ]
    },
    {
      "cell_type": "code",
      "execution_count": null,
      "metadata": {
        "id": "E8iv_r3Ps3HD"
      },
      "outputs": [],
      "source": [
        "input = \"/content/drive/MyDrive/assement/test.mp4\"\n",
        "\n",
        "output = \"/content/text_output1.mp4\"\n",
        "\n",
        "run(input,output)"
      ]
    }
  ],
  "metadata": {
    "colab": {
      "collapsed_sections": [],
      "provenance": []
    },
    "kernelspec": {
      "display_name": "Python 3",
      "name": "python3"
    },
    "language_info": {
      "name": "python"
    }
  },
  "nbformat": 4,
  "nbformat_minor": 0
}